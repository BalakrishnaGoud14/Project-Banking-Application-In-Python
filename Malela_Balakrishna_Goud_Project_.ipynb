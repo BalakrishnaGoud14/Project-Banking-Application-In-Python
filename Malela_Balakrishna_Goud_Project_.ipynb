{
  "nbformat": 4,
  "nbformat_minor": 0,
  "metadata": {
    "colab": {
      "name": "Malela Balakrishna Goud_Project_.ipynb",
      "provenance": [],
      "collapsed_sections": [],
      "include_colab_link": true
    },
    "kernelspec": {
      "name": "python3",
      "display_name": "Python 3"
    }
  },
  "cells": [
    {
      "cell_type": "markdown",
      "metadata": {
        "id": "view-in-github",
        "colab_type": "text"
      },
      "source": [
        "<a href=\"https://colab.research.google.com/github/BalakrishnaGoud14/Project-Banking-Application-In-Python/blob/main/Malela_Balakrishna_Goud_Project_.ipynb\" target=\"_parent\"><img src=\"https://colab.research.google.com/assets/colab-badge.svg\" alt=\"Open In Colab\"/></a>"
      ]
    },
    {
      "cell_type": "markdown",
      "metadata": {
        "id": "UYmMpXkNw9I6"
      },
      "source": [
        "# Project :  The Horizon Bank - A Banking Application Using Python "
      ]
    },
    {
      "cell_type": "markdown",
      "metadata": {
        "id": "PaanjkTewd2U"
      },
      "source": [
        "---"
      ]
    },
    {
      "cell_type": "markdown",
      "metadata": {
        "id": "x9vfVAsbslya"
      },
      "source": [
        "### Context\n",
        "\n",
        "Decades before, most of the banks used to maintain the details of their customers in a record book or in an excel sheet in a computer. This is not so reliable as compared to today’s revolutionary growth of technology in almost all of the fields.\n",
        "\n",
        "There is also a negative side in today’s growth of technology i.e. the increasing cyber crimes all over the world.\n",
        "\n",
        "Do you know, in earlier days we need to stand in a long queue for hours in banks to deposit (a sum of money paid into a bank account) or withdraw (a sum of money withdrawn from a bank account) or to create a new bank account?\n",
        "But nowadays with the growth of technology, users can create and maintain their bank account or pay their electric bills, phone bills by sitting in their homes. All they need is a smartphone and internet.\n",
        "\n",
        "So, a banking application like this can help in making this process easy ...."
      ]
    },
    {
      "cell_type": "markdown",
      "metadata": {
        "id": "G9pdov_M0nzo"
      },
      "source": [
        "---"
      ]
    },
    {
      "cell_type": "markdown",
      "metadata": {
        "id": "2i36Yv3-MPY5"
      },
      "source": [
        "### Problem Statement \n",
        "\n",
        "In this project, we are writing a computer program to create an interactive bank application for the Horizon Bank. The application will have two simple functionalities:\n",
        "\n",
        "1. Allowing a customer to create a new bank account with their following personal details:\n",
        "\n",
        "   - Full name\n",
        "\n",
        "   - Permanent residential address\n",
        "\n",
        "   - Personal or residential phone number\n",
        "\n",
        "   - Valid government-issued identification \n",
        "\n",
        "   - Amount to be deposited to the account\n",
        "\n",
        "2. Allowing an existing customer of the bank to \n",
        "\n",
        "   - Checking their bank balance\n",
        "   \n",
        "   - Withdrawing some amount from their account provided that the withdrawal amount is less than the available bank balance\n",
        "   \n",
        "   - Depositing some amount to their account\n",
        "\n",
        "\n"
      ]
    },
    {
      "cell_type": "markdown",
      "metadata": {
        "id": "5JRlGIBRqCGl"
      },
      "source": [
        "---"
      ]
    },
    {
      "cell_type": "markdown",
      "metadata": {
        "id": "UCusTfW0tcxe"
      },
      "source": [
        "\n",
        "#### 1. Customer Data\n",
        "\n",
        "The data of all the customers are stored in a Python dictionary. Let's call it `cust_data`. \n",
        "\n",
        "The key of the `cust_data` dictionary will be an account number of a customer. Its corresponding value will be another dictionary holding the personal details of a customer such as `name`, `address, email id` etc. as shown below. \n",
        "\n",
        "```\n",
        "cust_data = {10011 : {'name': karthik, \n",
        "                      'address': 'C42, MG Complex, Sector-14, Vashi', \n",
        "                      'phone num': '9876543210',\n",
        "                      'govt id': 'C12345Z',\n",
        "                      'amount': 15999}}\n",
        "``` \n",
        "\n",
        "Here, `10011` is the account number for Karthik's saving account. It acts as a key to the dictionary containing his details.\n",
        "\n",
        "To add the personal details of another customer to the `cust_data` dictionary, we need to append it with existing data in the dictionary as shown below.\n",
        "\n",
        "```\n",
        "cust_data = {10011 : {'name': karthik, \n",
        "                      'address': 'C42, MG Complex, Sector-14, Vashi', \n",
        "                      'phone num': '9876543210',\n",
        "                      'govt id': 'C12345Z',\n",
        "                      'amount': 15999}, \n",
        "            100012 : {'name' : Hrithik, \n",
        "                      'address': B-910, Mandapeshwar Kripa, Borivalli, \n",
        "                      'phone num' : '9876543210',\n",
        "                      'govt id': 'QL44345',\n",
        "                      'amount': 13999}}\n",
        "``` \n",
        "\n"
      ]
    },
    {
      "cell_type": "code",
      "metadata": {
        "id": "6RL71w3ntzcH"
      },
      "source": [
        "# Creating the empty 'cust_data' dictionary and the 'new_user_attributes' list.\n",
        "cust_data = {}\n",
        "new_user_attributes = ['name', 'address', 'phone num', 'govt id', 'amount']\n"
      ],
      "execution_count": null,
      "outputs": []
    },
    {
      "cell_type": "markdown",
      "metadata": {
        "id": "RETr5Tv1JBls"
      },
      "source": [
        "---"
      ]
    },
    {
      "cell_type": "markdown",
      "metadata": {
        "id": "0_OEabQbGQcP"
      },
      "source": [
        "#### 2. Adding New User\n",
        "\n",
        "Creating a function to add a new user to the `cust_data` dictionary. Naming the function as `new_user()`. \n",
        "\n",
        "\n",
        "Displaying the following message after adding the new user.\n",
        "\n",
        "  ```\n",
        "  Your details are added successfully.\n",
        "  Your account number is ABCDE \n",
        "  Please don't lose it.  \n",
        "  ```\n",
        "  where `ABCDE` is some randomly generated 5-digit account number (ranging between 10000 to 99999) for the new user.\n",
        "\n",
        "  \n",
        "\n"
      ]
    },
    {
      "cell_type": "code",
      "metadata": {
        "id": "mROhcvIy0ML6"
      },
      "source": [
        "# The 'new_user()' function to add a new user to the 'cust_data' dictionary. \n",
        "import random\n",
        "\n",
        "def new_user():\n",
        "  # Step 1: Creating a random five-digit account number and storing it in 'acc_num' variable\n",
        "  acc_num =   random.randint(10000,99999)  \n",
        "  \n",
        "  # Step 2: Creating an empty list and storing it in the 'new_user_inputs' variable.\n",
        "  new_user_inputs = list()\n",
        " \n",
        "\n",
        "\n",
        "  # Step 3: Prompting the user to enter all of their required details one-by-one and adding them to the list new_user_input.\n",
        "  for i in range(len(new_user_attributes)):\n",
        "    user_input = input(\"Enter \" + new_user_attributes[i] + \":\\n\")\n",
        "    if new_user_attributes[i] == 'amount':\n",
        "      new_user_inputs.append(int(user_input))\n",
        "    else:\n",
        "      new_user_inputs.append(user_input)\n",
        "\n",
        "  # Step 4: Creating a dictionary for the new user and adding it to the cust_data dictionary.\n",
        "  cust_data[acc_num] = dict(zip(new_user_attributes, new_user_inputs))\n",
        "\n",
        "  # Step 5: Displaying the message on successfull account creation to the user.\n",
        "  print('Your details are added successfully.')\n",
        "  print('Your account number is ', acc_num )\n",
        "  print(\"Please don't loose it.\")\n",
        "\n"
      ],
      "execution_count": null,
      "outputs": []
    },
    {
      "cell_type": "markdown",
      "metadata": {
        "id": "aJJT0ojPGPcd"
      },
      "source": [
        "---"
      ]
    },
    {
      "cell_type": "markdown",
      "metadata": {
        "id": "rZsDogK8LaOW"
      },
      "source": [
        "#### 3. Existing User\n",
        "\n",
        "The function to get the account details of an existing user from the `cust_data` dictionary. Naming the function as `existing_user()`. The following are steps described below.\n",
        "\n",
        "**Step 1**: Prompting the user to enter their account number. We just keep prompting until they enter their correct account number. For each invalid account number, printing the following message to the user.\n",
        "\n",
        "   ```\n",
        "   Not found. Please enter your correct account number:\n",
        "   ```\n",
        "\n",
        "**Step 2**: If the user has entered the correct account number, printing the following message to the user.\n",
        "\n",
        "   ```\n",
        "   Welcome, user_name ! \n",
        "   Enter 1 to check your balance.\n",
        "   Enter 2 to withdraw an amount.\n",
        "   Enter 3 to deposit an amount.\n",
        "   ```\n",
        "  where `user_name` is the name of the existing user who entered his account number correctly.\n",
        "\n",
        "**Step 3**: Prompting the user to enter either `1, 2` or `3`. We just keep prompting until the user enters the valid input. For each invalid input, printing the following message to the user.\n",
        "\n",
        "   ```\n",
        "   Invalid input! \n",
        "   Enter 1 to check your balance.\n",
        "   Enter 2 to withdraw an amount.\n",
        "   Enter 3 to deposit an amount.\n",
        "   ```\n",
        "\n",
        "**Step 4**: In the case of valid input:\n",
        "  \n",
        "   - If the user enters `1`, then displaying their available account balance.\n",
        "\n",
        "   - Else if the user enters `2`, then prompting the user to enter the withdrawal amount by displaying the `Enter the amount to be withdrawn:` message.\n",
        "\n",
        "     - If the withdrawal amount is greater than the available balance, then displaying the following message.\n",
        "\n",
        "       ```\n",
        "       Insufficient balance.\n",
        "       Available balance: X\n",
        "       ```\n",
        "\n",
        "        where `X` is the available balance in the user's account.\n",
        "\n",
        "     - Else, subtracting the withdrawal amount from the available balance and replacing the existing available amount with the updated amount in the `cust_data` dictionary. Also, printing the following message.\n",
        "\n",
        "       ```\n",
        "       Withdrawal successful.\n",
        "       Available Balance: Y\n",
        "       ```\n",
        "\n",
        "       where `Y` is the updated amount.\n",
        "\n",
        "   - Else if the user enters `3`, then prompting them to enter the amount to be deposited to their account by displaying the `Enter the amount to be deposited:` message. Adding the deposit amount to the available balance and updating the new deposit amount in the `cust_data` dictionary. Also, displaying the following message.\n",
        "\n",
        "     ```\n",
        "     Deposit successful.\n",
        "     Available Balance: Z\n",
        "     ```\n",
        "\n",
        "     where `Z` is the updated deposit amount.\n",
        " "
      ]
    },
    {
      "cell_type": "code",
      "metadata": {
        "id": "8HV3cY6O9LeE"
      },
      "source": [
        "# The 'existing_user()' function to get the account details of an existing user from the 'cust_data' dictionary.\n",
        "def existing_user():\n",
        "  # Step 1: Asking the user to enter the existing account number and storing it as an integer.\n",
        "  acc_num = int(input('Please Enter Your Account Number : ')) \n",
        "  while acc_num not in cust_data:\n",
        "    acc_num = int(input(\"Not found. Please enter your correct account number:\\n\"))\n",
        "    \n",
        "  # Step 2: Printing the welcome message to the user.\n",
        "\n",
        "  print('Welcome,',cust_data[acc_num]['name'] ,'!')\n",
        "  print('Enter 1 to check your balance.')\n",
        "  print('Enter 2 to withdraw an amount.')\n",
        "  print('Enter 3 to deposit an amount.')\n",
        "\n",
        "  # Step 3: Asking the user to select a valid choice. \n",
        "  user_choice = input('Enter Your Choice : ')\n",
        "  while user_choice not in ['1','2','3']:\n",
        "    print(\"\\nInvalid input!\")\n",
        "    print(\"Enter 1 to check your balance.\\nEnter 2 to withdraw an amount.\\nEnter 3 to deposit an amount.\")\n",
        "    user_choice = input()\n",
        "  \n",
        "  # Step 4:\n",
        "  # If 'user_choice == 1' then displaying the account balance i.e. 'cust_data[acc_num]['amount']'\n",
        "  if user_choice == '1':\n",
        " \n",
        "    print('Your Account Balance : ',cust_data[acc_num]['amount'])\n",
        "      \n",
        "  # Else if 'user_choice == 2' then subtracting the withdrawal amount from the available balance.\n",
        "  elif user_choice == '2':\n",
        "    amt = int(input(\"\\nEnter the amount to be withdrawn:\\n\"))\n",
        "    if amt > cust_data[acc_num]['amount']:\n",
        "      print(\"\\nInsufficient balance.\\nAvailable balance:\", cust_data[acc_num]['amount'])\n",
        "    else:\n",
        "      new_amt = int(cust_data[acc_num]['amount']) - amt\n",
        "      cust_data[acc_num]['amount'] = new_amt\n",
        "      print(\"\\nWithdrawal successful.\\nAvailable Balance:\", cust_data[acc_num]['amount'])\n",
        "\n",
        "  # Else if 'user_choice == 3' then adding the deposit amount to the available balance.\n",
        "  elif user_choice == '3':\n",
        "    amt = int(input(\"\\nEnter the amount to be deposited:\\n\"))\n",
        "    new_amt = int(cust_data[acc_num]['amount']) + amt\n",
        "    cust_data[acc_num]['amount'] = new_amt\n",
        "    print(\"\\nDeposit successful.\\nAvailable Balance:\", cust_data[acc_num]['amount'])\n",
        "\n"
      ],
      "execution_count": null,
      "outputs": []
    },
    {
      "cell_type": "markdown",
      "metadata": {
        "id": "gdgW4-R6LVB3"
      },
      "source": [
        "---"
      ]
    },
    {
      "cell_type": "markdown",
      "metadata": {
        "id": "NyHSsEwEoEvH"
      },
      "source": [
        "#### 4. Infinite `while` Loop \n",
        "\n",
        "Finally, creating an infinite `while` loop to run the application. Inside the loop:\n",
        "\n",
        "  1. Creating a list of valid inputs, i.e., `'1', '2', '3'`\n",
        "\n",
        "  2. Prompting the user to enter either `1, 2,` or `3` by displaying the following message.\n",
        "\n",
        "     ```\n",
        "     Welcome to the Horizon Bank!\n",
        "\n",
        "     Enter 1 if you are a new customer.\n",
        "     Enter 2 if you are an existing customer.\n",
        "     Enter 3 to terminate the application.\n",
        "     ```\n",
        "\n",
        "    We just keep prompting until the user enters the valid input. For each invalid input, printing the following message to the user.\n",
        "\n",
        "     ```\n",
        "     Invalid input!\n",
        "     Enter 1 if you are a new customer.\n",
        "     Enter 2 if you are an existing customer.\n",
        "     Enter 3 to terminate the application.\n",
        "     ```\n",
        "\n",
        "  3. If the user enters `1`, then creating a new account for the user and taking their personal details. After creating the account, terminate the application with the `Thank you, for banking with us!` message. \n",
        "\n",
        "  4. Else if the user enters 2, then displaying their account balance, reducing their balance or increasing their balance depending on their further input. Afterwards, terminating the application with the `Thank you, for banking with us!` message. \n",
        "\n",
        "  5. Else if the user enters 3, then terminating the application with the `Thank you, for banking with us!` message. "
      ]
    },
    {
      "cell_type": "code",
      "metadata": {
        "id": "-QAIIkM1qCNr",
        "colab": {
          "base_uri": "https://localhost:8080/"
        },
        "outputId": "17b06523-b23e-43cf-b69b-75390c735298"
      },
      "source": [
        "# Creating an infinite while loop to run the application.\n",
        "while True:\n",
        "  valid_inputs = ['1','2','3']\n",
        "  print(\"Welcome to the Horizon Bank!\")\n",
        "  print(\"\\nEnter 1 if you are a new customer.\\nEnter 2 if you are an existing customer.\\nEnter 3 to terminate the application.\") \n",
        "\n",
        "  user_choice = int(input())\n",
        "  while user_choice not in [1,2,3]:\n",
        "    print(\"Invalid input!\")\n",
        "    print(\"Enter 1 if you are a new customer.\\nEnter 2 if you are an existing customer.\\nEnter 3 to terminate the application.\\n\")\n",
        "    user_choice =int(input())\n",
        "\n",
        "  # If the user enters 1, then calling the 'new_user()' function (to create a new account for the user and get their personal details).\n",
        "  if user_choice == 1 :\n",
        "    new_user()\n",
        "    print('Thank you, for banking with us!')\n",
        "    break\n",
        "\n",
        "  # Else If the user enters 2, then calling the 'existing_user()' function.\n",
        "  elif user_choice == 2 :\n",
        "    existing_user()\n",
        "    print('Thank you, for banking with us!')\n",
        "    break\n",
        "\n",
        "  # Else If the user enters 3, then terminating the application with the 'Thank you, for banking with us!' message. \n",
        "  else :\n",
        "    print('Thank you, for banking with us!')\n",
        "    break\n",
        "\n",
        "  print()\n",
        "\n",
        "\n"
      ],
      "execution_count": null,
      "outputs": [
        {
          "output_type": "stream",
          "name": "stdout",
          "text": [
            "Welcome to the Horizon Bank!\n",
            "\n",
            "Enter 1 if you are a new customer.\n",
            "Enter 2 if you are an existing customer.\n",
            "Enter 3 to terminate the application.\n",
            "1\n",
            "Enter name:\n",
            "Balakrishna\n",
            "Enter address:\n",
            "oygfvuwehfe\n",
            "Enter phone num:\n",
            "9846546856\n",
            "Enter govt id:\n",
            "32698795462666\n",
            "Enter amount:\n",
            "1000000\n",
            "Your details are added successfully.\n",
            "Your account number is  18164\n",
            "Please don't loose it.\n",
            "Thank you, for banking with us!\n"
          ]
        }
      ]
    },
    {
      "cell_type": "markdown",
      "metadata": {
        "id": "4qIsQMIj-Is3"
      },
      "source": [
        "---"
      ]
    },
    {
      "cell_type": "markdown",
      "metadata": {
        "id": "fZV1ZSS5CuTq"
      },
      "source": [
        "---"
      ]
    }
  ]
}